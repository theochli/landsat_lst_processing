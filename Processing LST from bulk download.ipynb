{
 "cells": [
  {
   "cell_type": "markdown",
   "metadata": {},
   "source": [
    "# Processing LST rasters and cloud data from bulk download\n",
    "\n",
    "After the bulk download application (https://dds.cr.usgs.gov/bulk) is used to download many scenes from EarthExplorer, they will be located in the default folder that was created by the bulk download application. For me, that file location is: '/home/tclim/bda' and a subdirectory was created with the name of the bulk download I gave: 'Bulk Order atlanta summers 2019 - 2022'). In this directoy, are a bunch of tar compressed directories that contain the rasters of interest, for example:\n",
    "\n",
    "- LC08_CU_024014_20210525_20210602_02_QA_PIXEL.TIF\n",
    "- LC08_CU_024014_20210525_20210602_02_ST_B10.TIF\n",
    "\n",
    "Among other layers that were part of the two bundles downloaded. This notebook will show how to go through each date (scene) for which data was obtained, process the rasters into degrees C, handle missing data, and then take means across the 14 scenes.\n"
   ]
  },
  {
   "cell_type": "code",
   "execution_count": 17,
   "metadata": {},
   "outputs": [],
   "source": [
    "import rasterio\n",
    "import pandas as pd\n",
    "import numpy as np\n",
    "import os\n",
    "import tarfile\n",
    "\n",
    "import matplotlib.pyplot as plt\n",
    "\n",
    "%matplotlib inline"
   ]
  },
  {
   "cell_type": "code",
   "execution_count": 42,
   "metadata": {
    "scrolled": true
   },
   "outputs": [
    {
     "data": {
      "text/plain": [
       "'LE07_CU_024014_20210526_20210625_02_QA.tar'"
      ]
     },
     "execution_count": 42,
     "metadata": {},
     "output_type": "execute_result"
    }
   ],
   "source": [
    "tars = os.listdir('/home/tclim/bda/Bulk Order atlanta summers 2019 - 2022/Landsat 4-9 C2 U.S. ARD/')\n",
    "tars[0]"
   ]
  },
  {
   "cell_type": "code",
   "execution_count": 47,
   "metadata": {},
   "outputs": [],
   "source": [
    "# for loop to extract all files into a new directory (where the notebook is located called extracted_files)\n",
    "\n",
    "for t in tars:\n",
    "    cur_tar = tarfile.open('/home/tclim/bda/Bulk Order atlanta summers 2019 - 2022/Landsat 4-9 C2 U.S. ARD/' + t)\n",
    "    cur_tar.extractall('./extracted_files') # specify which folder to extract to\n",
    "    cur_tar.close()"
   ]
  },
  {
   "cell_type": "markdown",
   "metadata": {},
   "source": [
    "## Make a list of all the unique scenes\n",
    "\n",
    "Meaning of the file names in product manual for ARD: https://d9-wret.s3.us-west-2.amazonaws.com/assets/palladium/production/s3fs-public/atoms/files/LSDS-1619_Landsat8-C2-L2-ScienceProductGuide-v2.pdf\n",
    "\n",
    "See page 10.\n",
    "\n",
    "`LXSS_LLLL_PPPRRR_YYYYMMDD_yyyymmdd_CX_TX`\n",
    "\n",
    "- L = Landsat\n",
    "- X = Sensor (C = OLS/TIRS; E = ?)\n",
    "- LLLL = Processing correction level (“L2SP” if SR and ST are generated or “L2SR” if ST could not be generated)\n",
    "- PPP = Path\n",
    "- RRR = Row\n",
    "- YYYY = Year of acquisition\n",
    "- MM = Month of acquisition\n",
    "- DD = Day of acquisition\n",
    "- yyyy = year of level 2 processing\n",
    "- mm = month of level 2 processing\n",
    "- dd = day of level 2 processing\n",
    "- CX = Collection number\n",
    "- TX = Collection category (“RT” = Real-Time; “T1” = Tier 1; “T2” = Tier 2)\n"
   ]
  },
  {
   "cell_type": "code",
   "execution_count": 48,
   "metadata": {},
   "outputs": [
    {
     "data": {
      "text/plain": [
       "['LE07_CU_024014_20210729_20210828_02_ST_QA.TIF',\n",
       " 'LC08_CU_024014_20210705_20210716_02_ST_TRAD.TIF',\n",
       " 'LE07_CU_024014_20210517_20210616_02_QA_PIXEL.TIF',\n",
       " 'LC08_CU_024014_20210610_20210625_02_ST_EMSD.TIF',\n",
       " 'LE07_CU_024014_20210814_20210913_02_QA_LINEAGE.TIF',\n",
       " 'LC08_CU_024014_20210525_20210602_02_ST_TRAD.TIF',\n",
       " 'LC08_CU_024014_20210907_20210919_02_QA_PIXEL.TIF',\n",
       " 'LE07_CU_024014_20210814_20210913_02.json',\n",
       " 'LE07_CU_024014_20210805_20210904_02_QA_LINEAGE.TIF',\n",
       " 'LE07_CU_024014_20210704_20210803_02_ST_EMIS.TIF',\n",
       " 'LE07_CU_024014_20210814_20210913_02_QA_PIXEL.TIF',\n",
       " 'LE07_CU_024014_20210805_20210904_02_ST_EMSD.TIF',\n",
       " 'LE07_CU_024014_20210729_20210828_02_ST_CDIST.TIF',\n",
       " 'LC08_CU_024014_20210705_20210716_02_ST_EMSD.TIF',\n",
       " 'LC08_CU_024014_20210914_20210928_02_ST_URAD.TIF',\n",
       " 'LE07_CU_024014_20210729_20210828_02_ST_EMSD.TIF',\n",
       " 'LC08_CU_024014_20210914_20210928_02_QA_PIXEL.TIF',\n",
       " 'LE07_CU_024014_20210526_20210625_02_QA_LINEAGE.TIF',\n",
       " 'LE07_CU_024014_20210805_20210904_02_ST_EMIS.TIF',\n",
       " 'LC08_CU_024014_20210705_20210716_02.json',\n",
       " 'LC08_CU_024014_20210728_20210807_02.json',\n",
       " 'LE07_CU_024014_20210814_20210913_02_ST_ATRAN.TIF',\n",
       " 'LE07_CU_024014_20210729_20210828_02_SR_ATMOS_OPACITY.TIF',\n",
       " 'LE07_CU_024014_20210704_20210803_02_ST_B6.TIF',\n",
       " 'LC08_CU_024014_20210525_20210602_02_QA_RADSAT.TIF',\n",
       " 'LC08_CU_024014_20210728_20210807_02_ST_DRAD.TIF',\n",
       " 'LE07_CU_024014_20210517_20210616_02_ST_CDIST.TIF',\n",
       " 'LC08_CU_024014_20210728_20210807_02_QA_PIXEL.TIF',\n",
       " 'LE07_CU_024014_20210729_20210828_02_ST_DRAD.TIF',\n",
       " 'LC08_CU_024014_20210525_20210602_02_ST_QA.TIF',\n",
       " 'LE07_CU_024014_20210627_20210806_02_ST_QA.TIF',\n",
       " 'LE07_CU_024014_20210704_20210803_02_ST_ATRAN.TIF',\n",
       " 'LE07_CU_024014_20210627_20210806_02_ST_CDIST.TIF',\n",
       " 'LE07_CU_024014_20210526_20210625_02.json',\n",
       " 'LE07_CU_024014_20210627_20210806_02_ST_TRAD.TIF',\n",
       " 'LE07_CU_024014_20210627_20210806_02_SR_CLOUD_QA.TIF',\n",
       " 'LE07_CU_024014_20210517_20210616_02_QA_LINEAGE.TIF',\n",
       " 'LE07_CU_024014_20210805_20210904_02_ST_QA.TIF',\n",
       " 'LE07_CU_024014_20210704_20210803_02.json',\n",
       " 'LE07_CU_024014_20210729_20210828_02_QA_LINEAGE.TIF',\n",
       " 'LE07_CU_024014_20210704_20210803_02_SR_ATMOS_OPACITY.TIF',\n",
       " 'LE07_CU_024014_20210517_20210616_02_SR_ATMOS_OPACITY.TIF',\n",
       " 'LC08_CU_024014_20210525_20210602_02_ST_URAD.TIF',\n",
       " 'LE07_CU_024014_20210814_20210913_02_ST_QA.TIF',\n",
       " 'LE07_CU_024014_20210517_20210616_02_ST_TRAD.TIF',\n",
       " 'LC08_CU_024014_20210705_20210716_02_ST_QA.TIF',\n",
       " 'LC08_CU_024014_20210525_20210602_02.xml',\n",
       " 'LE07_CU_024014_20210526_20210625_02_SR_CLOUD_QA.TIF',\n",
       " 'LE07_CU_024014_20210729_20210828_02_ST_URAD.TIF',\n",
       " 'LC08_CU_024014_20210610_20210625_02_QA_LINEAGE.TIF',\n",
       " 'LC08_CU_024014_20210914_20210928_02_ST_B10.TIF',\n",
       " 'LC08_CU_024014_20210813_20210822_02_ST_EMSD.TIF',\n",
       " 'LC08_CU_024014_20210813_20210822_02_SR_QA_AEROSOL.TIF',\n",
       " 'LC08_CU_024014_20210907_20210919_02_SR_QA_AEROSOL.TIF',\n",
       " 'LC08_CU_024014_20210914_20210928_02_SR_QA_AEROSOL.TIF',\n",
       " 'LC08_CU_024014_20210728_20210807_02_QA_RADSAT.TIF',\n",
       " 'LE07_CU_024014_20210704_20210803_02_ST_CDIST.TIF',\n",
       " 'LE07_CU_024014_20210814_20210913_02_ST_URAD.TIF',\n",
       " 'LC08_CU_024014_20210610_20210625_02_ST_TRAD.TIF',\n",
       " 'LC08_CU_024014_20210525_20210602_02.json',\n",
       " 'LE07_CU_024014_20210814_20210913_02_ST_B6.TIF',\n",
       " 'LC08_CU_024014_20210705_20210716_02_QA_PIXEL.TIF',\n",
       " 'LC08_CU_024014_20210525_20210602_02_ST_ATRAN.TIF',\n",
       " 'LC08_CU_024014_20210610_20210625_02_ST_CDIST.TIF',\n",
       " 'LE07_CU_024014_20210517_20210616_02.json',\n",
       " 'LC08_CU_024014_20210914_20210928_02_ST_ATRAN.TIF',\n",
       " 'LC08_CU_024014_20210610_20210625_02_SR_QA_AEROSOL.TIF',\n",
       " 'LC08_CU_024014_20210610_20210625_02_ST_QA.TIF',\n",
       " 'LE07_CU_024014_20210729_20210828_02_ST_EMIS.TIF',\n",
       " 'LC08_CU_024014_20210610_20210625_02_ST_URAD.TIF',\n",
       " 'LC08_CU_024014_20210907_20210919_02.json',\n",
       " 'LE07_CU_024014_20210627_20210806_02_ST_URAD.TIF',\n",
       " 'LC08_CU_024014_20210813_20210822_02_ST_CDIST.TIF',\n",
       " 'LE07_CU_024014_20210704_20210803_02.xml',\n",
       " 'LC08_CU_024014_20210610_20210625_02.json',\n",
       " 'LC08_CU_024014_20210610_20210625_02_ST_ATRAN.TIF',\n",
       " 'LE07_CU_024014_20210517_20210616_02_SR_CLOUD_QA.TIF',\n",
       " 'LC08_CU_024014_20210525_20210602_02_ST_CDIST.TIF',\n",
       " 'LE07_CU_024014_20210805_20210904_02_ST_DRAD.TIF',\n",
       " 'LC08_CU_024014_20210728_20210807_02_ST_CDIST.TIF',\n",
       " 'LC08_CU_024014_20210914_20210928_02_ST_CDIST.TIF',\n",
       " 'LE07_CU_024014_20210627_20210806_02_ST_EMIS.TIF',\n",
       " 'LC08_CU_024014_20210610_20210625_02_ST_B10.TIF',\n",
       " 'LC08_CU_024014_20210525_20210602_02_QA_PIXEL.TIF',\n",
       " 'LE07_CU_024014_20210627_20210806_02.xml',\n",
       " 'LE07_CU_024014_20210805_20210904_02_SR_ATMOS_OPACITY.TIF',\n",
       " 'LE07_CU_024014_20210805_20210904_02_ST_URAD.TIF',\n",
       " 'LC08_CU_024014_20210914_20210928_02.xml',\n",
       " 'LC08_CU_024014_20210813_20210822_02_ST_B10.TIF',\n",
       " 'LC08_CU_024014_20210914_20210928_02_ST_TRAD.TIF',\n",
       " 'LE07_CU_024014_20210805_20210904_02_ST_TRAD.TIF',\n",
       " 'LE07_CU_024014_20210627_20210806_02_QA_RADSAT.TIF',\n",
       " 'LE07_CU_024014_20210704_20210803_02_QA_LINEAGE.TIF',\n",
       " 'LC08_CU_024014_20210813_20210822_02_ST_DRAD.TIF',\n",
       " 'LE07_CU_024014_20210729_20210828_02_QA_RADSAT.TIF',\n",
       " 'LC08_CU_024014_20210525_20210602_02_ST_B10.TIF',\n",
       " 'LC08_CU_024014_20210914_20210928_02_QA_LINEAGE.TIF',\n",
       " 'LC08_CU_024014_20210705_20210716_02.xml',\n",
       " 'LC08_CU_024014_20210907_20210919_02_ST_EMIS.TIF',\n",
       " 'LC08_CU_024014_20210907_20210919_02_QA_RADSAT.TIF',\n",
       " 'LC08_CU_024014_20210728_20210807_02_ST_URAD.TIF',\n",
       " 'LE07_CU_024014_20210526_20210625_02_ST_EMIS.TIF',\n",
       " 'LE07_CU_024014_20210627_20210806_02_ST_ATRAN.TIF',\n",
       " 'LC08_CU_024014_20210813_20210822_02_QA_PIXEL.TIF',\n",
       " 'LE07_CU_024014_20210805_20210904_02_ST_CDIST.TIF',\n",
       " 'LE07_CU_024014_20210814_20210913_02_ST_DRAD.TIF',\n",
       " 'LE07_CU_024014_20210704_20210803_02_QA_RADSAT.TIF',\n",
       " 'LC08_CU_024014_20210728_20210807_02_ST_EMIS.TIF',\n",
       " 'LE07_CU_024014_20210814_20210913_02.xml',\n",
       " 'LC08_CU_024014_20210907_20210919_02_ST_B10.TIF',\n",
       " 'LC08_CU_024014_20210705_20210716_02_QA_LINEAGE.TIF',\n",
       " 'LE07_CU_024014_20210814_20210913_02_SR_CLOUD_QA.TIF',\n",
       " 'LC08_CU_024014_20210610_20210625_02_QA_RADSAT.TIF',\n",
       " 'LC08_CU_024014_20210705_20210716_02_SR_QA_AEROSOL.TIF',\n",
       " 'LC08_CU_024014_20210705_20210716_02_ST_EMIS.TIF',\n",
       " 'LE07_CU_024014_20210526_20210625_02_ST_CDIST.TIF',\n",
       " 'LC08_CU_024014_20210728_20210807_02_SR_QA_AEROSOL.TIF',\n",
       " 'LE07_CU_024014_20210517_20210616_02.xml',\n",
       " 'LE07_CU_024014_20210704_20210803_02_ST_EMSD.TIF',\n",
       " 'LE07_CU_024014_20210729_20210828_02_ST_B6.TIF',\n",
       " 'LC08_CU_024014_20210705_20210716_02_ST_DRAD.TIF',\n",
       " 'LE07_CU_024014_20210704_20210803_02_ST_TRAD.TIF',\n",
       " 'LC08_CU_024014_20210525_20210602_02_QA_LINEAGE.TIF',\n",
       " 'LE07_CU_024014_20210805_20210904_02_SR_CLOUD_QA.TIF',\n",
       " 'LE07_CU_024014_20210526_20210625_02_ST_DRAD.TIF',\n",
       " 'LE07_CU_024014_20210805_20210904_02.json',\n",
       " 'LC08_CU_024014_20210610_20210625_02_ST_DRAD.TIF',\n",
       " 'LE07_CU_024014_20210526_20210625_02_ST_TRAD.TIF',\n",
       " 'LE07_CU_024014_20210805_20210904_02_QA_RADSAT.TIF',\n",
       " 'LE07_CU_024014_20210526_20210625_02_ST_ATRAN.TIF',\n",
       " 'LC08_CU_024014_20210907_20210919_02_ST_EMSD.TIF',\n",
       " 'LE07_CU_024014_20210627_20210806_02_SR_ATMOS_OPACITY.TIF',\n",
       " 'LC08_CU_024014_20210907_20210919_02_QA_LINEAGE.TIF',\n",
       " 'LE07_CU_024014_20210526_20210625_02_ST_EMSD.TIF',\n",
       " 'LE07_CU_024014_20210805_20210904_02_ST_B6.TIF',\n",
       " 'LE07_CU_024014_20210814_20210913_02_QA_RADSAT.TIF',\n",
       " 'LC08_CU_024014_20210813_20210822_02.xml',\n",
       " 'LC08_CU_024014_20210914_20210928_02_ST_DRAD.TIF',\n",
       " 'LC08_CU_024014_20210907_20210919_02_ST_URAD.TIF',\n",
       " 'LC08_CU_024014_20210728_20210807_02_ST_ATRAN.TIF',\n",
       " 'LE07_CU_024014_20210526_20210625_02_QA_RADSAT.TIF',\n",
       " 'LC08_CU_024014_20210728_20210807_02.xml',\n",
       " 'LC08_CU_024014_20210813_20210822_02.json',\n",
       " 'LC08_CU_024014_20210705_20210716_02_ST_ATRAN.TIF',\n",
       " 'LC08_CU_024014_20210610_20210625_02_QA_PIXEL.TIF',\n",
       " 'LE07_CU_024014_20210729_20210828_02_ST_TRAD.TIF',\n",
       " 'LC08_CU_024014_20210728_20210807_02_ST_EMSD.TIF',\n",
       " 'LE07_CU_024014_20210627_20210806_02_QA_PIXEL.TIF',\n",
       " 'LE07_CU_024014_20210814_20210913_02_ST_TRAD.TIF',\n",
       " 'LE07_CU_024014_20210627_20210806_02_ST_DRAD.TIF',\n",
       " 'LC08_CU_024014_20210907_20210919_02.xml',\n",
       " 'LC08_CU_024014_20210813_20210822_02_ST_TRAD.TIF',\n",
       " 'LE07_CU_024014_20210704_20210803_02_SR_CLOUD_QA.TIF',\n",
       " 'LE07_CU_024014_20210704_20210803_02_ST_QA.TIF',\n",
       " 'LC08_CU_024014_20210914_20210928_02.json',\n",
       " 'LE07_CU_024014_20210729_20210828_02_ST_ATRAN.TIF',\n",
       " 'LE07_CU_024014_20210729_20210828_02_SR_CLOUD_QA.TIF',\n",
       " 'LE07_CU_024014_20210627_20210806_02_QA_LINEAGE.TIF',\n",
       " 'LC08_CU_024014_20210914_20210928_02_ST_EMSD.TIF',\n",
       " 'LE07_CU_024014_20210627_20210806_02_ST_EMSD.TIF',\n",
       " 'LE07_CU_024014_20210517_20210616_02_ST_EMIS.TIF',\n",
       " 'LE07_CU_024014_20210805_20210904_02.xml',\n",
       " 'LC08_CU_024014_20210914_20210928_02_QA_RADSAT.TIF',\n",
       " 'LC08_CU_024014_20210907_20210919_02_ST_DRAD.TIF',\n",
       " 'LC08_CU_024014_20210525_20210602_02_ST_DRAD.TIF',\n",
       " 'LC08_CU_024014_20210705_20210716_02_QA_RADSAT.TIF',\n",
       " 'LE07_CU_024014_20210704_20210803_02_ST_URAD.TIF',\n",
       " 'LC08_CU_024014_20210728_20210807_02_QA_LINEAGE.TIF',\n",
       " 'LC08_CU_024014_20210813_20210822_02_ST_URAD.TIF',\n",
       " 'LC08_CU_024014_20210728_20210807_02_ST_B10.TIF',\n",
       " 'LC08_CU_024014_20210525_20210602_02_ST_EMIS.TIF',\n",
       " 'LC08_CU_024014_20210914_20210928_02_ST_EMIS.TIF',\n",
       " 'LE07_CU_024014_20210729_20210828_02.json',\n",
       " 'LC08_CU_024014_20210907_20210919_02_ST_CDIST.TIF',\n",
       " 'LE07_CU_024014_20210517_20210616_02_ST_B6.TIF',\n",
       " 'LC08_CU_024014_20210610_20210625_02_ST_EMIS.TIF',\n",
       " 'LE07_CU_024014_20210526_20210625_02_ST_QA.TIF',\n",
       " 'LC08_CU_024014_20210907_20210919_02_ST_QA.TIF',\n",
       " 'LE07_CU_024014_20210704_20210803_02_QA_PIXEL.TIF',\n",
       " 'LE07_CU_024014_20210805_20210904_02_ST_ATRAN.TIF',\n",
       " 'LC08_CU_024014_20210705_20210716_02_ST_B10.TIF',\n",
       " 'LE07_CU_024014_20210526_20210625_02_SR_ATMOS_OPACITY.TIF',\n",
       " 'LC08_CU_024014_20210813_20210822_02_QA_LINEAGE.TIF',\n",
       " 'LE07_CU_024014_20210517_20210616_02_QA_RADSAT.TIF',\n",
       " 'LC08_CU_024014_20210705_20210716_02_ST_CDIST.TIF',\n",
       " 'LC08_CU_024014_20210813_20210822_02_ST_EMIS.TIF',\n",
       " 'LE07_CU_024014_20210814_20210913_02_SR_ATMOS_OPACITY.TIF',\n",
       " 'LE07_CU_024014_20210526_20210625_02.xml',\n",
       " 'LC08_CU_024014_20210610_20210625_02.xml',\n",
       " 'LC08_CU_024014_20210813_20210822_02_ST_ATRAN.TIF',\n",
       " 'LC08_CU_024014_20210525_20210602_02_SR_QA_AEROSOL.TIF',\n",
       " 'LE07_CU_024014_20210805_20210904_02_QA_PIXEL.TIF',\n",
       " 'LC08_CU_024014_20210813_20210822_02_ST_QA.TIF',\n",
       " 'LE07_CU_024014_20210627_20210806_02.json',\n",
       " 'LE07_CU_024014_20210526_20210625_02_ST_B6.TIF',\n",
       " 'LE07_CU_024014_20210517_20210616_02_ST_EMSD.TIF',\n",
       " 'LE07_CU_024014_20210704_20210803_02_ST_DRAD.TIF',\n",
       " 'LE07_CU_024014_20210729_20210828_02.xml',\n",
       " 'LC08_CU_024014_20210705_20210716_02_ST_URAD.TIF',\n",
       " 'LC08_CU_024014_20210813_20210822_02_QA_RADSAT.TIF',\n",
       " 'LC08_CU_024014_20210914_20210928_02_ST_QA.TIF',\n",
       " 'LC08_CU_024014_20210525_20210602_02_ST_EMSD.TIF',\n",
       " 'LE07_CU_024014_20210814_20210913_02_ST_EMIS.TIF',\n",
       " 'LC08_CU_024014_20210728_20210807_02_ST_TRAD.TIF',\n",
       " 'LE07_CU_024014_20210517_20210616_02_ST_ATRAN.TIF',\n",
       " 'LC08_CU_024014_20210907_20210919_02_ST_TRAD.TIF',\n",
       " 'LE07_CU_024014_20210526_20210625_02_ST_URAD.TIF',\n",
       " 'LE07_CU_024014_20210814_20210913_02_ST_EMSD.TIF',\n",
       " 'LE07_CU_024014_20210729_20210828_02_QA_PIXEL.TIF',\n",
       " 'LE07_CU_024014_20210517_20210616_02_ST_DRAD.TIF',\n",
       " 'LE07_CU_024014_20210814_20210913_02_ST_CDIST.TIF',\n",
       " 'LE07_CU_024014_20210627_20210806_02_ST_B6.TIF',\n",
       " 'LE07_CU_024014_20210526_20210625_02_QA_PIXEL.TIF',\n",
       " 'LC08_CU_024014_20210907_20210919_02_ST_ATRAN.TIF',\n",
       " 'LE07_CU_024014_20210517_20210616_02_ST_QA.TIF',\n",
       " 'LE07_CU_024014_20210517_20210616_02_ST_URAD.TIF',\n",
       " 'LC08_CU_024014_20210728_20210807_02_ST_QA.TIF']"
      ]
     },
     "execution_count": 48,
     "metadata": {},
     "output_type": "execute_result"
    }
   ],
   "source": [
    "# list of all the extracted files... note: some of these appear not to have the B10 data for surface temp\n",
    "os.listdir('./extracted_files/')"
   ]
  },
  {
   "cell_type": "code",
   "execution_count": 57,
   "metadata": {},
   "outputs": [],
   "source": [
    "# unique acquisition dates\n",
    "\n",
    "ac_dates = []\n",
    "\n",
    "for f in os.listdir('./extracted_files/'):\n",
    "    ac_dates.append(f.split('_')[3])"
   ]
  },
  {
   "cell_type": "code",
   "execution_count": 58,
   "metadata": {},
   "outputs": [],
   "source": [
    "ac_dates = list(set(ac_dates))"
   ]
  },
  {
   "cell_type": "code",
   "execution_count": 59,
   "metadata": {
    "scrolled": true
   },
   "outputs": [
    {
     "data": {
      "text/plain": [
       "['20210610',\n",
       " '20210814',\n",
       " '20210805',\n",
       " '20210705',\n",
       " '20210517',\n",
       " '20210704',\n",
       " '20210728',\n",
       " '20210526',\n",
       " '20210907',\n",
       " '20210627',\n",
       " '20210813',\n",
       " '20210525',\n",
       " '20210914',\n",
       " '20210729']"
      ]
     },
     "execution_count": 59,
     "metadata": {},
     "output_type": "execute_result"
    }
   ],
   "source": [
    "ac_dates"
   ]
  },
  {
   "cell_type": "markdown",
   "metadata": {},
   "source": [
    "# For each unique date, process the raw LST with cloud data"
   ]
  },
  {
   "cell_type": "code",
   "execution_count": 61,
   "metadata": {},
   "outputs": [],
   "source": [
    "def proc_lst(b10_file_loc, qa_pixel_file_loc, output_file_loc):\n",
    "    '''\n",
    "    Takes raw LST input from Analysis Ready Data (C2) Earth Explorer and\n",
    "    the QA_Pixel file, both as rasters (TIF) and outputs a raster file\n",
    "    for land surface temperature in Celsius, with nodata for missing or\n",
    "    cloud-influenced pixels\n",
    "    '''\n",
    "    # Read in input files\n",
    "    b10_file = rasterio.open(b10_file_loc) \n",
    "    clouds_file = rasterio.open(qa_pixel_file_loc)\n",
    "    \n",
    "    # load in data, starting from index 1 (band)\n",
    "    b10 =  b10_file.read(1)    # This is a numpy array\n",
    "    clouds =  clouds_file.read(1)\n",
    "\n",
    "    #reclassify all values in the clouds raster that are not \"clear\" (21824) to 0:\n",
    "    clouds_bin = np.where(clouds != 21824, 0, clouds)\n",
    "    clouds_bin = np.where(clouds_bin == 21824, 1, clouds_bin)\n",
    "    \n",
    "    #multiply the two arrays together\n",
    "    b10_clouds = np.multiply(b10,clouds_bin)\n",
    "    b10_clouds = np.where(b10_clouds == 0, np.nan, b10_clouds)\n",
    "    \n",
    "    # convert with USGS multiplicative/additive factors and from K to C\n",
    "    lst_c = (b10_clouds*0.00341802 + 149) - 273.1\n",
    "    \n",
    "    \n",
    "    # Edit metadata like a dictionary in python to write to raster file:\n",
    "    out_meta = b10_file.meta.copy()\n",
    "    out_meta.update({'driver':'GTiff',\n",
    "                 'width':b10_file.shape[1],\n",
    "                 'height':b10_file.shape[0],\n",
    "                 'count':1,\n",
    "                 'dtype':'float64',\n",
    "                 'crs':b10_file.crs, \n",
    "                 'transform':b10_file.transform,\n",
    "                 'nodata':np.nan})\n",
    "    \n",
    "    with rasterio.open(output_file_loc, 'w', **out_meta) as dst:\n",
    "        dst.write_band(1, lst_c.astype(rasterio.float64))\n",
    "    "
   ]
  },
  {
   "cell_type": "code",
   "execution_count": 86,
   "metadata": {},
   "outputs": [],
   "source": [
    "dir_loc = './extracted_files/'\n",
    "\n",
    "for d in ac_dates:\n",
    "    # make a list of files matching an acquisition date\n",
    "    date_match_fnams = [x for x in os.listdir('./extracted_files/') if x.split('_')[3] == d] \n",
    "    \n",
    "    # check that neither b10 or qa_pixel length is zero (this would happen if there is no b10 or qa_pixel raster available)\n",
    "    if len([x for x in date_match_fnams if x.split('_')[-1] == 'B10.TIF']) * len([x for x in date_match_fnams if x.split('_')[-1] == 'PIXEL.TIF']) == 0:\n",
    "        pass\n",
    "    \n",
    "    else:\n",
    "        # get the name of the file with b10\n",
    "        b10_fnam = [x for x in date_match_fnams if x.split('_')[-1] == 'B10.TIF'][0]\n",
    "\n",
    "        # get the name of the file with cloud data\n",
    "        cloud_fnam = [x for x in date_match_fnams if x.split('_')[-1] == 'PIXEL.TIF'][0]\n",
    "    \n",
    "        # use file names in function to produce processed raster\n",
    "        proc_lst(dir_loc + b10_fnam, dir_loc + cloud_fnam, './processed_lsts/lst_' + d + '_C.TIF')"
   ]
  },
  {
   "cell_type": "markdown",
   "metadata": {},
   "source": [
    "# Average Across Rasters"
   ]
  },
  {
   "cell_type": "code",
   "execution_count": 5,
   "metadata": {},
   "outputs": [
    {
     "data": {
      "text/plain": [
       "['lst_20210907_C.TIF',\n",
       " 'lst_20210525_C.TIF',\n",
       " 'lst_20210914_C.TIF',\n",
       " 'lst_20210610_C.TIF',\n",
       " 'lst_20210705_C.TIF',\n",
       " 'lst_20210728_C.TIF',\n",
       " 'lst_20210813_C.TIF']"
      ]
     },
     "execution_count": 5,
     "metadata": {},
     "output_type": "execute_result"
    }
   ],
   "source": [
    "lst_C_files = os.listdir('./processed_lsts/')\n",
    "lst_C_files"
   ]
  },
  {
   "cell_type": "markdown",
   "metadata": {},
   "source": [
    "## Option 1: Absolute Degrees Celsius"
   ]
  },
  {
   "cell_type": "code",
   "execution_count": 6,
   "metadata": {},
   "outputs": [],
   "source": [
    "# load each file as a value in a dictionary\n",
    "\n",
    "my_dict = {}\n",
    "\n",
    "for i in range(len(lst_C_files)):\n",
    "    c_file = rasterio.open('./processed_lsts/' + lst_C_files[i])\n",
    "    my_dict[i] = c_file.read(1)"
   ]
  },
  {
   "cell_type": "code",
   "execution_count": 13,
   "metadata": {},
   "outputs": [],
   "source": [
    "# convert the dictionary to a 3D array\n",
    "test = np.array(list(my_dict.values()))"
   ]
  },
  {
   "cell_type": "code",
   "execution_count": 26,
   "metadata": {
    "scrolled": false
   },
   "outputs": [
    {
     "name": "stderr",
     "output_type": "stream",
     "text": [
      "/home/tclim/anaconda3/lib/python3.7/site-packages/ipykernel_launcher.py:2: RuntimeWarning: Mean of empty slice\n",
      "  \n"
     ]
    }
   ],
   "source": [
    "# summarize across the arrays\n",
    "final = np.nanmean(test, axis = 0)"
   ]
  },
  {
   "cell_type": "code",
   "execution_count": 28,
   "metadata": {},
   "outputs": [
    {
     "data": {
      "text/plain": [
       "<matplotlib.image.AxesImage at 0x7f6e0625deb8>"
      ]
     },
     "execution_count": 28,
     "metadata": {},
     "output_type": "execute_result"
    },
    {
     "data": {
      "image/png": "[encoded data removed]",
      "text/plain": [
       "<Figure size 432x288 with 1 Axes>"
      ]
     },
     "metadata": {
      "needs_background": "light"
     },
     "output_type": "display_data"
    }
   ],
   "source": [
    " plt.imshow(final, cmap = 'hot')"
   ]
  },
  {
   "cell_type": "markdown",
   "metadata": {},
   "source": [
    "### Write out to raster"
   ]
  },
  {
   "cell_type": "code",
   "execution_count": 29,
   "metadata": {},
   "outputs": [],
   "source": [
    "# Edit metadata like a dictionary in python:\n",
    "\n",
    "out_meta = c_file.meta.copy()\n",
    "out_meta.update({'driver':'GTiff',\n",
    "                 'width':c_file.shape[1],\n",
    "                 'height':c_file.shape[0],\n",
    "                 'count':1,\n",
    "                 'dtype':'float64',\n",
    "                 'crs':c_file.crs, \n",
    "                 'transform':c_file.transform,\n",
    "                 'nodata':np.nan})\n",
    "out_meta\n",
    "\n",
    "\n",
    "# then: save the index in format Geotiff using rasterio:\n",
    "\n",
    "with rasterio.open(os.path.join(\"./aggregated_lst/\", 'mean_C.tif'), 'w', **out_meta) as dst:\n",
    "    dst.write_band(1, final.astype(rasterio.float64))"
   ]
  },
  {
   "cell_type": "markdown",
   "metadata": {},
   "source": [
    "## Option 2: Difference from Mean Temperature in Each Scene"
   ]
  }
 ],
 "metadata": {
  "kernelspec": {
   "display_name": "Python 3",
   "language": "python",
   "name": "python3"
  },
  "language_info": {
   "codemirror_mode": {
    "name": "ipython",
    "version": 3
   },
   "file_extension": ".py",
   "mimetype": "text/x-python",
   "name": "python",
   "nbconvert_exporter": "python",
   "pygments_lexer": "ipython3",
   "version": "3.7.3"
  }
 },
 "nbformat": 4,
 "nbformat_minor": 2
}
